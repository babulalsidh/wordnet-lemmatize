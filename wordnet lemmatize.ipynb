{
 "cells": [
  {
   "cell_type": "code",
   "execution_count": 5,
   "id": "b50acf34-8470-4a65-9317-d2eaa2c2da33",
   "metadata": {},
   "outputs": [],
   "source": [
    "import nltk"
   ]
  },
  {
   "cell_type": "raw",
   "id": "9c909f06-d71a-4fc9-9ff4-bbc912ef9fd7",
   "metadata": {},
   "source": [
    "nltk.download(\"wordnet\")"
   ]
  },
  {
   "cell_type": "code",
   "execution_count": 10,
   "id": "4a9ffc30-4186-4576-965a-398ed556eba2",
   "metadata": {},
   "outputs": [],
   "source": [
    "from nltk.stem import WordNetLemmatizer"
   ]
  },
  {
   "cell_type": "markdown",
   "id": "b9e6988a-6cc9-43a2-a9a6-3208c5ee2b2e",
   "metadata": {},
   "source": [
    "from nltk.stem import WordnetLemmatizer"
   ]
  },
  {
   "cell_type": "code",
   "execution_count": 13,
   "id": "dc9c963f-6c0e-47fe-8e91-f6394456d445",
   "metadata": {},
   "outputs": [],
   "source": [
    "mywnl = WordNetLemmatizer()"
   ]
  },
  {
   "cell_type": "code",
   "execution_count": 15,
   "id": "1a2cf187-607b-4544-a273-48e622228e86",
   "metadata": {},
   "outputs": [
    {
     "data": {
      "text/plain": [
       "'caring'"
      ]
     },
     "execution_count": 15,
     "metadata": {},
     "output_type": "execute_result"
    }
   ],
   "source": [
    "mywnl.lemmatize(\"caring\")"
   ]
  },
  {
   "cell_type": "code",
   "execution_count": 17,
   "id": "093c9db1-45e9-4624-ba7a-4b13436acf99",
   "metadata": {},
   "outputs": [
    {
     "name": "stderr",
     "output_type": "stream",
     "text": [
      "[nltk_data] Downloading package omw-1.4 to\n",
      "[nltk_data]     C:\\Users\\babul\\AppData\\Roaming\\nltk_data...\n",
      "[nltk_data]   Package omw-1.4 is already up-to-date!\n"
     ]
    },
    {
     "data": {
      "text/plain": [
       "True"
      ]
     },
     "execution_count": 17,
     "metadata": {},
     "output_type": "execute_result"
    }
   ],
   "source": [
    "nltk.download('omw-1.4')"
   ]
  },
  {
   "cell_type": "code",
   "execution_count": 18,
   "id": "8a80fedb-eed4-4ec9-aee4-cda3b3f12c39",
   "metadata": {},
   "outputs": [],
   "source": [
    "#pos"
   ]
  },
  {
   "cell_type": "code",
   "execution_count": 20,
   "id": "99788243-7075-4261-988f-e30199ff2d8b",
   "metadata": {},
   "outputs": [
    {
     "data": {
      "text/plain": [
       "'stripe'"
      ]
     },
     "execution_count": 20,
     "metadata": {},
     "output_type": "execute_result"
    }
   ],
   "source": [
    "mywnl.lemmatize(\"stripes\",'n')"
   ]
  },
  {
   "cell_type": "code",
   "execution_count": 24,
   "id": "c2d0886c-f67b-4a2d-874c-4c0085a1f83e",
   "metadata": {},
   "outputs": [
    {
     "data": {
      "text/plain": [
       "'strip'"
      ]
     },
     "execution_count": 24,
     "metadata": {},
     "output_type": "execute_result"
    }
   ],
   "source": [
    "mywnl.lemmatize(\"stripes\",'v')"
   ]
  },
  {
   "cell_type": "code",
   "execution_count": 26,
   "id": "569fa40b-d842-4b2a-9314-04add264cc5d",
   "metadata": {},
   "outputs": [
    {
     "data": {
      "text/plain": [
       "'stripes'"
      ]
     },
     "execution_count": 26,
     "metadata": {},
     "output_type": "execute_result"
    }
   ],
   "source": [
    "mywnl.lemmatize(\"stripes\",'a')"
   ]
  },
  {
   "cell_type": "code",
   "execution_count": 31,
   "id": "388ccf81-1e70-4ff0-8e53-89fad21333a9",
   "metadata": {},
   "outputs": [],
   "source": [
    "db = [\"The\", \"cat\", \"be\", \"run\", \"and\", \"eat\", \"quickly\"]"
   ]
  },
  {
   "cell_type": "code",
   "execution_count": 32,
   "id": "3788dfb1-46e1-4341-9046-c933bf1db22c",
   "metadata": {},
   "outputs": [
    {
     "data": {
      "text/plain": [
       "['The', 'cat', 'be', 'run', 'and', 'eat', 'quickly']"
      ]
     },
     "execution_count": 32,
     "metadata": {},
     "output_type": "execute_result"
    }
   ],
   "source": [
    "db"
   ]
  },
  {
   "cell_type": "code",
   "execution_count": 34,
   "id": "deaef66b-84d6-47ec-8fe8-ccc37a62f4dc",
   "metadata": {},
   "outputs": [
    {
     "name": "stdout",
     "output_type": "stream",
     "text": [
      "The\n",
      "cat\n",
      "be\n",
      "run\n",
      "and\n",
      "eat\n",
      "quickly\n"
     ]
    }
   ],
   "source": [
    "for i in db:\n",
    "    print(i)"
   ]
  },
  {
   "cell_type": "code",
   "execution_count": 37,
   "id": "95d3a42e-51ae-49f9-b993-63799a198a4d",
   "metadata": {},
   "outputs": [
    {
     "name": "stdout",
     "output_type": "stream",
     "text": [
      "The\n",
      "cat\n",
      "be\n",
      "run\n",
      "and\n",
      "eat\n",
      "quickly\n"
     ]
    }
   ],
   "source": [
    "for i in db:\n",
    "  print(mywnl.lemmatize(i))"
   ]
  },
  {
   "cell_type": "code",
   "execution_count": 40,
   "id": "272f05f9-553b-4fcf-9084-09d6caf0c499",
   "metadata": {},
   "outputs": [],
   "source": [
    "mystr = \"The, cat, be run, and , eat quickly\""
   ]
  },
  {
   "cell_type": "code",
   "execution_count": 41,
   "id": "b7b1a039-a52d-4a13-90ee-20146c9cc8cc",
   "metadata": {},
   "outputs": [
    {
     "data": {
      "text/plain": [
       "['The,', 'cat,', 'be', 'run,', 'and', ',', 'eat', 'quickly']"
      ]
     },
     "execution_count": 41,
     "metadata": {},
     "output_type": "execute_result"
    }
   ],
   "source": [
    "mystr.split()"
   ]
  },
  {
   "cell_type": "code",
   "execution_count": 48,
   "id": "2d924f30-b2bc-4c9f-bb9e-b164c32381c3",
   "metadata": {},
   "outputs": [
    {
     "data": {
      "text/plain": [
       "'eat'"
      ]
     },
     "execution_count": 48,
     "metadata": {},
     "output_type": "execute_result"
    }
   ],
   "source": [
    "mystr.split()[6]"
   ]
  },
  {
   "cell_type": "code",
   "execution_count": 50,
   "id": "8f3b190d-f07e-4790-a167-f77ba128f62a",
   "metadata": {},
   "outputs": [
    {
     "data": {
      "text/plain": [
       "'be'"
      ]
     },
     "execution_count": 50,
     "metadata": {},
     "output_type": "execute_result"
    }
   ],
   "source": [
    "mywnl.lemmatize( mystr.split()[2],\"v\")"
   ]
  },
  {
   "cell_type": "code",
   "execution_count": 51,
   "id": "64217fda-1a6c-4c14-b1fa-841ccb57cfae",
   "metadata": {},
   "outputs": [],
   "source": [
    "mystr = \"The, cat, be run, and , eat quickly\""
   ]
  },
  {
   "cell_type": "code",
   "execution_count": 52,
   "id": "221fb9b2-d94d-490b-b3f2-18ca931cb6b4",
   "metadata": {},
   "outputs": [
    {
     "data": {
      "text/plain": [
       "['The,', 'cat,', 'be', 'run,', 'and', ',', 'eat', 'quickly']"
      ]
     },
     "execution_count": 52,
     "metadata": {},
     "output_type": "execute_result"
    }
   ],
   "source": [
    "#tonenize : word == token\n",
    "mystr.split()"
   ]
  },
  {
   "cell_type": "code",
   "execution_count": null,
   "id": "5ca274ba-b1c7-4485-9219-cad92403b33b",
   "metadata": {},
   "outputs": [],
   "source": []
  },
  {
   "cell_type": "code",
   "execution_count": null,
   "id": "c6aa7611-eb40-40c2-9126-a10ad87d558c",
   "metadata": {},
   "outputs": [],
   "source": []
  }
 ],
 "metadata": {
  "kernelspec": {
   "display_name": "Python 3 (ipykernel)",
   "language": "python",
   "name": "python3"
  },
  "language_info": {
   "codemirror_mode": {
    "name": "ipython",
    "version": 3
   },
   "file_extension": ".py",
   "mimetype": "text/x-python",
   "name": "python",
   "nbconvert_exporter": "python",
   "pygments_lexer": "ipython3",
   "version": "3.13.5"
  }
 },
 "nbformat": 4,
 "nbformat_minor": 5
}
